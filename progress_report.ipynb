{
 "cells": [
  {
   "cell_type": "markdown",
   "id": "eb55cb1a",
   "metadata": {},
   "source": [
    "# Pandenomics\n",
    "\n",
    "## The Bruhs' Progress Report\n",
    "\n",
    "* Aleksandar Kartelyan\n",
    "* Karan Shah\n",
    "* Ramzi Rimawi\n",
    "* Thomas Sobczak\n",
    "* Ryan Thommes"
   ]
  },
  {
   "cell_type": "markdown",
   "id": "b08d53a4",
   "metadata": {},
   "source": [
    "## Project Introduction\n",
    "The pandemic has caused inflation across the nation, thus increasing cost in all stages in production of goods. We analyzed different impacts the COVID-19 pandemic has had on the economy and the nation overall. As a group we discovered inflation and increased prices of goods and services affects everyone in the country from workers to businesses to everyday people. So our question is, How has the COVID-19 pandemic caused prices to increase in the US?\n",
    "\n",
    "$\\color{red}{\\text{**ADD CHANGES?:**}}$"
   ]
  },
  {
   "cell_type": "markdown",
   "id": "ef8a607c",
   "metadata": {},
   "source": [
    "## Any Changes\n",
    "(a discussion whether your scope has changed since the check-in proposal slides. What did you aim to do that you will not do and what have you added to the project?)\n",
    "\n",
    "$\\color{red}{\\text{**TODO:**}}$"
   ]
  },
  {
   "cell_type": "markdown",
   "id": "37af10a1",
   "metadata": {},
   "source": [
    "## Data Cleaning\n",
    "### Show clearly how you cleaned your data"
   ]
  },
  {
   "cell_type": "code",
   "execution_count": null,
   "id": "9228f861",
   "metadata": {},
   "outputs": [],
   "source": [
    "#TODO: code?\n",
    "\n",
    "import pandas as pd\n",
    "import numpy as np\n",
    "import seaborn as sns\n",
    "\n",
    "\n",
    "data_cols = [\n",
    "    'Year',\n",
    "    'Jan',\n",
    "    'Feb',\n",
    "    'Mar',\n",
    "    'Apr',\n",
    "    'May',\n",
    "    'Jun',\n",
    "    'Jul',\n",
    "    'Aug',\n",
    "    'Sep',\n",
    "    'Oct',\n",
    "    'Nov',\n",
    "    'Dec',\n",
    "    'HALF1',\n",
    "    'HALF2'\n",
    "]\n",
    "\n",
    "data = pd.read_csv(\"CPI-U.csv\", names=data_cols)\n",
    "data = data.iloc[1: , :]\n",
    "data.drop(data.iloc[:, 13:15], inplace = True, axis = 1)\n",
    "data = data.replace(r'^\\s*$', np.nan, regex=True)\n",
    "data"
   ]
  },
  {
   "cell_type": "markdown",
   "id": "557302ac",
   "metadata": {},
   "source": [
    "## Exploratory Data Analysis\n",
    "(Explain what your data looks like (words are fine, but\n",
    "visualizations are often better). Include any interesting issues or preliminary\n",
    "conclusions you have about your data.)\n",
    "\n",
    "$\\color{red}{\\text{**TODO:**}}$"
   ]
  },
  {
   "cell_type": "markdown",
   "id": "300aca5f",
   "metadata": {},
   "source": [
    "## At Least One Visualization\n",
    "(that tests an interesting hypothesis, along with an\n",
    "explanation about why you thought this was an interesting hypothesis to\n",
    "investigate.)"
   ]
  },
  {
   "cell_type": "code",
   "execution_count": 76,
   "id": "b5ffdec1",
   "metadata": {},
   "outputs": [
    {
     "data": {
      "text/plain": [
       "<AxesSubplot:>"
      ]
     },
     "execution_count": 76,
     "metadata": {},
     "output_type": "execute_result"
    },
    {
     "data": {
      "image/png": "[encoded data removed]",
      "text/plain": [
       "<Figure size 432x288 with 1 Axes>"
      ]
     },
     "metadata": {
      "needs_background": "light"
     },
     "output_type": "display_data"
    }
   ],
   "source": [
    "pre_covid_yrs = data[(data['Year'] <= '2019')].astype(float)\n",
    "covid_yrs = data[(data['Year'] > '2019') & (data['Year'] < '2022')].astype(float)\n",
    "\n",
    "\n",
    "pre_covid_yrs.drop('Year', axis=1, inplace=True)\n",
    "covid_yrs.drop('Year', axis=1, inplace=True)\n",
    "\n",
    "\n",
    "sns.barplot(data = pre_covid_yrs)\n"
   ]
  },
  {
   "cell_type": "code",
   "execution_count": 77,
   "id": "b84e7a9d",
   "metadata": {},
   "outputs": [
    {
     "data": {
      "text/plain": [
       "<AxesSubplot:>"
      ]
     },
     "execution_count": 77,
     "metadata": {},
     "output_type": "execute_result"
    },
    {
     "data": {
      "image/png": "[encoded data removed]",
      "text/plain": [
       "<Figure size 432x288 with 1 Axes>"
      ]
     },
     "metadata": {
      "needs_background": "light"
     },
     "output_type": "display_data"
    }
   ],
   "source": [
    "sns.barplot(data = covid_yrs)"
   ]
  },
  {
   "cell_type": "markdown",
   "id": "2e6bb1d1",
   "metadata": {},
   "source": [
    "## At Least One ML Analysis\n",
    "(on your dataset, along with a baseline comparison\n",
    "and an interpretation of the result that you obtain.)\n",
    "\n",
    "$\\color{red}{\\text{**TODO:**}}$"
   ]
  },
  {
   "cell_type": "markdown",
   "id": "344e4a51",
   "metadata": {},
   "source": [
    "## Reflection\n",
    "### A discussion of the following:\n",
    "* What is hardest part of the project that you’ve encountered so far?\n",
    "* What are your initial insights?\n",
    "* Are there any concrete results you can show at this point? If not, why not? \n",
    "* Going forward, what are the current biggest problems you’re facing?\n",
    "* Do you think you are on track with your project? If not, what parts do you need to dedicate more time to?\n",
    "* Given your initial exploration of the data, is it worth proceeding with your project, why? If not, how are you going to change your project and why do you think it’s better than your current results?\n",
    "\n",
    "$\\color{red}{\\text{**TODO:**}}$"
   ]
  },
  {
   "cell_type": "markdown",
   "id": "2bd20e76",
   "metadata": {},
   "source": [
    "## Next steps\n",
    "(What you plan to accomplish in the next month and how you plan to evaluate whether your project achieved the goals you set for it.)\n",
    "\n",
    "$\\color{red}{\\text{**TODO:**}}$"
   ]
  }
 ],
 "metadata": {
  "kernelspec": {
   "display_name": "Python 3 (ipykernel)",
   "language": "python",
   "name": "python3"
  },
  "language_info": {
   "codemirror_mode": {
    "name": "ipython",
    "version": 3
   },
   "file_extension": ".py",
   "mimetype": "text/x-python",
   "name": "python",
   "nbconvert_exporter": "python",
   "pygments_lexer": "ipython3",
   "version": "3.9.7"
  }
 },
 "nbformat": 4,
 "nbformat_minor": 5
}
