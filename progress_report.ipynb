{
 "cells": [
  {
   "cell_type": "markdown",
   "id": "d7ca8ae0",
   "metadata": {},
   "source": [
    "# Pandenomics\n",
    "\n",
    "## The Bruhs' Progress Report\n",
    "\n",
    "* Aleksandar Kartelyan\n",
    "* Karan Shah\n",
    "* Ramzi Rimawi\n",
    "* Thomas Sobczak\n",
    "* Ryan Thommes"
   ]
  },
  {
   "cell_type": "markdown",
   "id": "6dfcbd71",
   "metadata": {},
   "source": [
    "## Project Introduction\n",
    "The pandemic has caused inflation across the nation, thus increasing cost in all stages in production of goods. We analyzed different impacts the COVID-19 pandemic has had on the economy and the nation overall. As a group we discovered inflation and increased prices of goods and services affects everyone in the country from workers to businesses to everyday people. So our question is, How has the COVID-19 pandemic caused prices to increase in the US?\n",
    "\n",
    "$\\color{red}{\\text{**ADD CHANGES?:**}}$"
   ]
  },
  {
   "cell_type": "markdown",
   "id": "0efe4a38",
   "metadata": {},
   "source": [
    "## Any Changes\n",
    "(a discussion whether your scope has changed since the check-in proposal slides. What did you aim to do that you will not do and what have you added to the project?)\n",
    "\n",
    "$\\color{red}{\\text{**TODO:**}}$"
   ]
  },
  {
   "cell_type": "markdown",
   "id": "38de31d8",
   "metadata": {},
   "source": [
    "## Data Cleaning\n",
    "### Show clearly how you cleaned your data"
   ]
  },
  {
   "cell_type": "code",
   "execution_count": null,
   "id": "3c757638",
   "metadata": {},
   "outputs": [],
   "source": [
    "#TODO: code?"
   ]
  },
  {
   "cell_type": "markdown",
   "id": "0a07c4e1",
   "metadata": {},
   "source": [
    "## Exploratory Data Analysis\n",
    "(Explain what your data looks like (words are fine, but\n",
    "visualizations are often better). Include any interesting issues or preliminary\n",
    "conclusions you have about your data.)\n",
    "\n",
    "$\\color{red}{\\text{**TODO:**}}$"
   ]
  },
  {
   "cell_type": "markdown",
   "id": "9ef5e514",
   "metadata": {},
   "source": [
    "## At Least One Visualization\n",
    "(that tests an interesting hypothesis, along with an\n",
    "explanation about why you thought this was an interesting hypothesis to\n",
    "investigate.)"
   ]
  },
  {
   "cell_type": "code",
   "execution_count": null,
   "id": "bae65a88",
   "metadata": {},
   "outputs": [],
   "source": [
    "#TODO: code visualization"
   ]
  },
  {
   "cell_type": "markdown",
   "id": "cbe56792",
   "metadata": {},
   "source": [
    "## At Least One ML Analysis\n",
    "(on your dataset, along with a baseline comparison\n",
    "and an interpretation of the result that you obtain.)\n",
    "\n",
    "$\\color{red}{\\text{**TODO:**}}$"
   ]
  },
  {
   "cell_type": "markdown",
   "id": "9ff3f8a1",
   "metadata": {},
   "source": [
    "## Reflection\n",
    "### A discussion of the following:\n",
    "* What is hardest part of the project that you’ve encountered so far?\n",
    "* What are your initial insights?\n",
    "* Are there any concrete results you can show at this point? If not, why not? \n",
    "* Going forward, what are the current biggest problems you’re facing?\n",
    "* Do you think you are on track with your project? If not, what parts do you need to dedicate more time to?\n",
    "* Given your initial exploration of the data, is it worth proceeding with your project, why? If not, how are you going to change your project and why do you think it’s better than your current results?\n",
    "\n",
    "$\\color{red}{\\text{**TODO:**}}$"
   ]
  },
  {
   "cell_type": "markdown",
   "id": "55c40cca",
   "metadata": {},
   "source": [
    "## Next steps\n",
    "(What you plan to accomplish in the next month and how you plan to evaluate whether your project achieved the goals you set for it.)\n",
    "\n",
    "$\\color{red}{\\text{**TODO:**}}$"
   ]
  }
 ],
 "metadata": {
  "kernelspec": {
   "display_name": "Python 3 (ipykernel)",
   "language": "python",
   "name": "python3"
  },
  "language_info": {
   "codemirror_mode": {
    "name": "ipython",
    "version": 3
   },
   "file_extension": ".py",
   "mimetype": "text/x-python",
   "name": "python",
   "nbconvert_exporter": "python",
   "pygments_lexer": "ipython3",
   "version": "3.9.7"
  }
 },
 "nbformat": 4,
 "nbformat_minor": 5
}
