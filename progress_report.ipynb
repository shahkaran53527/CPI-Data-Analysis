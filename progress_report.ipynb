{
 "cells": [
  {
   "cell_type": "markdown",
   "id": "eb55cb1a",
   "metadata": {},
   "source": [
    "# Pandenomics\n",
    "\n",
    "## The Bruhs' Progress Report\n",
    "\n",
    "* Aleksandar Kartelyan\n",
    "* Karan Shah\n",
    "* Ramzi Rimawi\n",
    "* Thomas Sobczak\n",
    "* Ryan Thommes"
   ]
  },
  {
   "cell_type": "markdown",
   "id": "b08d53a4",
   "metadata": {},
   "source": [
    "## Project Introduction\n",
    "The pandemic has caused inflation across the nation, thus increasing cost in all stages in production of goods. Inflation and increased prices of goods and services affects everyone in the country from workers to businesses to everyday people. Our goal is to analyze different impacts the COVID-19 pandemic has had on the economy and the nation overall. And our question is, How has the COVID-19 pandemic caused prices to increase in the US?"
   ]
  },
  {
   "cell_type": "markdown",
   "id": "37af10a1",
   "metadata": {},
   "source": [
    "## Data Cleaning\n",
    "### Show clearly how you cleaned your data"
   ]
  },
  {
   "cell_type": "code",
   "execution_count": 44,
   "id": "9228f861",
   "metadata": {},
   "outputs": [
    {
     "data": {
      "text/html": [
       "<div>\n",
       "<style scoped>\n",
       "    .dataframe tbody tr th:only-of-type {\n",
       "        vertical-align: middle;\n",
       "    }\n",
       "\n",
       "    .dataframe tbody tr th {\n",
       "        vertical-align: top;\n",
       "    }\n",
       "\n",
       "    .dataframe thead th {\n",
       "        text-align: right;\n",
       "    }\n",
       "</style>\n",
       "<table border=\"1\" class=\"dataframe\">\n",
       "  <thead>\n",
       "    <tr style=\"text-align: right;\">\n",
       "      <th></th>\n",
       "      <th>Year</th>\n",
       "      <th>Jan</th>\n",
       "      <th>Feb</th>\n",
       "      <th>Mar</th>\n",
       "      <th>Apr</th>\n",
       "      <th>May</th>\n",
       "      <th>Jun</th>\n",
       "      <th>Jul</th>\n",
       "      <th>Aug</th>\n",
       "      <th>Sep</th>\n",
       "      <th>Oct</th>\n",
       "      <th>Nov</th>\n",
       "      <th>Dec</th>\n",
       "    </tr>\n",
       "  </thead>\n",
       "  <tbody>\n",
       "    <tr>\n",
       "      <th>1</th>\n",
       "      <td>2000</td>\n",
       "      <td>168.8</td>\n",
       "      <td>169.8</td>\n",
       "      <td>171.2</td>\n",
       "      <td>171.3</td>\n",
       "      <td>171.5</td>\n",
       "      <td>172.4</td>\n",
       "      <td>172.8</td>\n",
       "      <td>172.8</td>\n",
       "      <td>173.7</td>\n",
       "      <td>174.0</td>\n",
       "      <td>174.1</td>\n",
       "      <td>174.0</td>\n",
       "    </tr>\n",
       "    <tr>\n",
       "      <th>2</th>\n",
       "      <td>2001</td>\n",
       "      <td>175.1</td>\n",
       "      <td>175.8</td>\n",
       "      <td>176.2</td>\n",
       "      <td>176.9</td>\n",
       "      <td>177.7</td>\n",
       "      <td>178.0</td>\n",
       "      <td>177.5</td>\n",
       "      <td>177.5</td>\n",
       "      <td>178.3</td>\n",
       "      <td>177.7</td>\n",
       "      <td>177.4</td>\n",
       "      <td>176.7</td>\n",
       "    </tr>\n",
       "    <tr>\n",
       "      <th>3</th>\n",
       "      <td>2002</td>\n",
       "      <td>177.1</td>\n",
       "      <td>177.8</td>\n",
       "      <td>178.8</td>\n",
       "      <td>179.8</td>\n",
       "      <td>179.8</td>\n",
       "      <td>179.9</td>\n",
       "      <td>180.1</td>\n",
       "      <td>180.7</td>\n",
       "      <td>181.0</td>\n",
       "      <td>181.3</td>\n",
       "      <td>181.3</td>\n",
       "      <td>180.9</td>\n",
       "    </tr>\n",
       "    <tr>\n",
       "      <th>4</th>\n",
       "      <td>2003</td>\n",
       "      <td>181.7</td>\n",
       "      <td>183.1</td>\n",
       "      <td>184.2</td>\n",
       "      <td>183.8</td>\n",
       "      <td>183.5</td>\n",
       "      <td>183.7</td>\n",
       "      <td>183.9</td>\n",
       "      <td>184.6</td>\n",
       "      <td>185.2</td>\n",
       "      <td>185.0</td>\n",
       "      <td>184.5</td>\n",
       "      <td>184.3</td>\n",
       "    </tr>\n",
       "  </tbody>\n",
       "</table>\n",
       "</div>"
      ],
      "text/plain": [
       "   Year    Jan    Feb    Mar    Apr    May    Jun    Jul    Aug    Sep    Oct  \\\n",
       "1  2000  168.8  169.8  171.2  171.3  171.5  172.4  172.8  172.8  173.7  174.0   \n",
       "2  2001  175.1  175.8  176.2  176.9  177.7  178.0  177.5  177.5  178.3  177.7   \n",
       "3  2002  177.1  177.8  178.8  179.8  179.8  179.9  180.1  180.7  181.0  181.3   \n",
       "4  2003  181.7  183.1  184.2  183.8  183.5  183.7  183.9  184.6  185.2  185.0   \n",
       "\n",
       "     Nov    Dec  \n",
       "1  174.1  174.0  \n",
       "2  177.4  176.7  \n",
       "3  181.3  180.9  \n",
       "4  184.5  184.3  "
      ]
     },
     "execution_count": 44,
     "metadata": {},
     "output_type": "execute_result"
    }
   ],
   "source": [
    "import pandas as pd\n",
    "import numpy as np\n",
    "import seaborn as sns\n",
    "from sklearn.linear_model import LinearRegression\n",
    "\n",
    "data_cols = ['Year','Jan','Feb','Mar','Apr','May','Jun','Jul','Aug','Sep','Oct','Nov','Dec','HALF1','HALF2']\n",
    "\n",
    "data = pd.read_csv(\"CPI-U.csv\", names=data_cols)\n",
    "data = data.iloc[1: , :]\n",
    "data.drop(data.iloc[:, 13:15], inplace = True, axis = 1)\n",
    "data = data.replace(r'^\\s*$', np.nan, regex=True)\n",
    "data.head(4) #rows 1-4 shows years 2000-2003, but the data goes from 2000 - 2022"
   ]
  },
  {
   "cell_type": "markdown",
   "id": "557302ac",
   "metadata": {},
   "source": [
    "## Exploratory Data Analysis\n",
    "The following barplots show a simple comparison of the average CPI per month in pre-covid years and CPI after covid hit in 2020. It is clearly visible that CPI is higher in years after covid. Not only that, it can also be inferred that the CPI has increased as the year goes on, in years after 2020."
   ]
  },
  {
   "cell_type": "markdown",
   "id": "300aca5f",
   "metadata": {},
   "source": [
    "## Data Visualization"
   ]
  },
  {
   "cell_type": "code",
   "execution_count": 45,
   "id": "b5ffdec1",
   "metadata": {},
   "outputs": [
    {
     "data": {
      "text/plain": [
       "Text(0, 0.5, 'Average CPI')"
      ]
     },
     "execution_count": 45,
     "metadata": {},
     "output_type": "execute_result"
    },
    {
     "data": {
      "image/png": "[encoded data removed]",
      "text/plain": [
       "<Figure size 432x288 with 1 Axes>"
      ]
     },
     "metadata": {
      "needs_background": "light"
     },
     "output_type": "display_data"
    }
   ],
   "source": [
    "pre_covid_yrs = data[(data['Year'] <= '2019')].astype(float)\n",
    "covid_yrs = data[(data['Year'] > '2019') & (data['Year'] < '2022')].astype(float)\n",
    "\n",
    "pre_covid_yrs.drop('Year', axis=1, inplace=True)\n",
    "covid_yrs.drop('Year', axis=1, inplace=True)\n",
    "\n",
    "p = sns.barplot(data = pre_covid_yrs)\n",
    "p.set(title='Average CPI per month before COVID')\n",
    "p.set_xlabel(\"Months\")\n",
    "p.set_ylabel(\"Average CPI\")\n",
    "\n",
    "\n"
   ]
  },
  {
   "cell_type": "code",
   "execution_count": 46,
   "id": "9464c1c9",
   "metadata": {},
   "outputs": [
    {
     "data": {
      "text/plain": [
       "Text(0, 0.5, 'Average CPI')"
      ]
     },
     "execution_count": 46,
     "metadata": {},
     "output_type": "execute_result"
    },
    {
     "data": {
      "image/png": "[encoded data removed]",
      "text/plain": [
       "<Figure size 432x288 with 1 Axes>"
      ]
     },
     "metadata": {
      "needs_background": "light"
     },
     "output_type": "display_data"
    }
   ],
   "source": [
    "cpi_2019 = data[(data['Year'] == '2019')].astype(float)\n",
    "\n",
    "cpi_2019.drop('Year', axis=1, inplace=True)\n",
    "\n",
    "p = sns.barplot(data = cpi_2019)\n",
    "p.set(title='Average CPI per month in 2019')\n",
    "p.set_xlabel(\"Months\")\n",
    "p.set_ylabel(\"Average CPI\")\n",
    "\n"
   ]
  },
  {
   "cell_type": "code",
   "execution_count": 47,
   "id": "0b8fc4eb",
   "metadata": {
    "scrolled": true
   },
   "outputs": [
    {
     "data": {
      "text/plain": [
       "Text(0, 0.5, 'Average CPI')"
      ]
     },
     "execution_count": 47,
     "metadata": {},
     "output_type": "execute_result"
    },
    {
     "data": {
      "image/png": "[encoded data removed]",
      "text/plain": [
       "<Figure size 432x288 with 1 Axes>"
      ]
     },
     "metadata": {
      "needs_background": "light"
     },
     "output_type": "display_data"
    }
   ],
   "source": [
    "pn = sns.barplot(data = covid_yrs)\n",
    "pn.set(title='Average CPI per month after COVID')\n",
    "pn.set_xlabel(\"Months\")\n",
    "pn.set_ylabel(\"Average CPI\")"
   ]
  },
  {
   "cell_type": "code",
   "execution_count": 49,
   "id": "bb9cda63",
   "metadata": {},
   "outputs": [
    {
     "data": {
      "text/plain": [
       "[Text(0.5, 0, 'Years'),\n",
       " Text(0, 0.5, 'Average CPI'),\n",
       " Text(0.5, 1.0, 'Average CPI per year 2013-2022')]"
      ]
     },
     "execution_count": 49,
     "metadata": {},
     "output_type": "execute_result"
    },
    {
     "data": {
      "image/png": "[encoded data removed]",
      "text/plain": [
       "<Figure size 432x288 with 1 Axes>"
      ]
     },
     "metadata": {
      "needs_background": "light"
     },
     "output_type": "display_data"
    }
   ],
   "source": [
    "#Average CPI values per year for the last 10 years\n",
    "#Visualized in a line graph\n",
    "\n",
    "covid = data.astype(float)\n",
    "covid.drop('Year', axis=1, inplace=True)\n",
    "\n",
    "covid['average'] = covid.mean(axis=1)\n",
    "covid.drop(covid.iloc[:, 0:12], inplace=True, axis=1)\n",
    "data_cols = ['2013','2014','2015', '2016',\n",
    "            '2017', '2018', '2019', '2020', '2021', '2022']\n",
    "a=sns.lineplot(data=covid[-10:], x=data_cols, y=\"average\")\n",
    "a.set(xlabel=\"Years\", ylabel=\"Average CPI\", title='Average CPI per year 2013-2022')"
   ]
  },
  {
   "cell_type": "markdown",
   "id": "2e6bb1d1",
   "metadata": {},
   "source": [
    "## ML Analysis"
   ]
  },
  {
   "cell_type": "code",
   "execution_count": 50,
   "id": "05e1ee77",
   "metadata": {},
   "outputs": [
    {
     "name": "stdout",
     "output_type": "stream",
     "text": [
      "Regression Prediction\n",
      "[[261.28870044]\n",
      " [265.66267945]\n",
      " [274.41063747]]\n",
      "Average CPI 2018:  251.10683333333338\n",
      "Average CPI 2019:  255.65741666666668\n",
      "\n",
      "Baseline Prediction for 2020: 260.29046612964976\n",
      "Baseline Prediction for 2021: 265.00747618179275\n",
      "Baseline Prediction for 2022: 269.8099683653517\n",
      "\n",
      "Average CPI for 2020: 258.8111666666667\n",
      "Average CPI for 2021: 270.96975000000003\n",
      "Average CPI for 2022 so far: 282.432\n"
     ]
    }
   ],
   "source": [
    "a = []\n",
    "b = []\n",
    "c = [2020, 2021, 2023]\n",
    "data[data['Year'] == '2019'].astype(float).aggregate(func = 'average')\n",
    "for x in range(2000,2020):\n",
    "    a.append(float(x))\n",
    "    pd = data[data['Year'] == str(x)].astype(float)\n",
    "    pd.drop('Year', axis=1, inplace=True)\n",
    "    b.append(pd.aggregate(func = 'average'))\n",
    "a = np.array(a).reshape(-1, 1)\n",
    "b = np.array(b).reshape(-1, 1)\n",
    "c = np.array(c).reshape(-1, 1)\n",
    "\n",
    "\n",
    "linear_regressor = LinearRegression()  # create object for the class\n",
    "\n",
    "linear_regressor.fit(a, b)  # perform linear regression\n",
    "Y_pred = linear_regressor.predict(c)  # make predictions\n",
    "print(\"Regression Prediction\")\n",
    "print(Y_pred)\n",
    "\n",
    "\n",
    "pd = data[data['Year'] == '2018'].astype(float)\n",
    "pd.drop('Year', axis=1, inplace=True)\n",
    "cpi_2018 = pd.aggregate(func = 'average')\n",
    "print('Average CPI 2018: ', str(cpi_2018))\n",
    "\n",
    "pd = data[data['Year'] == '2019'].astype(float)\n",
    "pd.drop('Year', axis=1, inplace=True)\n",
    "cpi_2019 = pd.aggregate(func = 'average')\n",
    "print('Average CPI 2019: ', str(cpi_2019) + \"\\n\")\n",
    "\n",
    "rate = cpi_2019/cpi_2018\n",
    "\n",
    "for x in range(2020,2023):\n",
    "    cpi_2019 = rate * cpi_2019\n",
    "    print(\"Baseline Prediction for \" + str(x) + \": \" + str(cpi_2019))\n",
    "\n",
    "print()    \n",
    "    \n",
    "for x in range(2020,2022):\n",
    "    pd = data[data['Year'] == str(x)].astype(float)\n",
    "    pd.drop('Year', axis=1, inplace=True)\n",
    "    print(\"Average CPI for \" + str(x) + \": \" + str(pd.aggregate(func = 'average')))\n",
    "    \n",
    "    \n",
    "print(\"Average CPI for 2022 so far: \" + str((281.148 + 283.716) / 2))"
   ]
  },
  {
   "cell_type": "markdown",
   "id": "344e4a51",
   "metadata": {},
   "source": [
    "## Reflection\n",
    "* What is hardest part of the project that you’ve encountered so far?\n",
    "    - One of the biggest difficulties thus far has been finding the data that works best for the problem we're trying to solve. With this in mind, we may have to be more adaptive with what we are looking for and how to properly display that data to cater to our needs.\n",
    "* What are your initial insights?\n",
    "    - We may have to find additional data specific to particular industries rather than just using raw CPI data for this.\n",
    "* Are there any concrete results you can show at this point? If not, why not?\n",
    "    - There are some patterns that we are witnessing but as of right now, it is difficult to order them in a way that would help prove claims we make. But, we did come up with pretty good visualizations and a nice ML Analysis which show how drastically prices have increased since the COVID pandemic.\n",
    "* Going forward, what are the current biggest problems you’re facing?\n",
    "    - Some of the biggest problems we're facing involve understanding and displaying the data in a way beneficial to our claims. As it stands right now, we are struggling to decide which data is most helpful to use.\n",
    "* Do you think you are on track with your project? If not, what parts do you need to dedicate more time to?\n",
    "    - We feel like we are on track with the project. However, we should dedicate more time to finding supplementary results and conclusions to better support our problem.\n",
    "* Given your initial exploration of the data, is it worth proceeding with your project, why? If not, how are you going to change your project and why do you think it’s better than your current results?\n",
    "    - Yes, it is worth proceeding with our project because we've been making good progress so far and we've been able to clean data and write code which has given us some insightful results which display price increases from COVID."
   ]
  },
  {
   "cell_type": "markdown",
   "id": "2bd20e76",
   "metadata": {},
   "source": [
    "## Next steps\n",
    "(What you plan to accomplish in the next month and how you plan to evaluate whether your project achieved the goals you set for it.)\n",
    "\n",
    " - Clean and test out more data sets to see what other results/industries can show us\n",
    " - Try to see how we can incorporate other data into our existing code\n",
    " - Adapt newfound data into visualizations that help illustrate our points\n",
    " - Review claims after analyzing the data to come to more definitive conclusions\n",
    " - Incorporate everything thus far into the presentation\n",
    " - Prepare for the final project submission \n",
    " "
   ]
  }
 ],
 "metadata": {
  "kernelspec": {
   "display_name": "Python 3 (ipykernel)",
   "language": "python",
   "name": "python3"
  },
  "language_info": {
   "codemirror_mode": {
    "name": "ipython",
    "version": 3
   },
   "file_extension": ".py",
   "mimetype": "text/x-python",
   "name": "python",
   "nbconvert_exporter": "python",
   "pygments_lexer": "ipython3",
   "version": "3.9.7"
  }
 },
 "nbformat": 4,
 "nbformat_minor": 5
}
