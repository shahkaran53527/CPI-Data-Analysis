{
 "cells": [
  {
   "cell_type": "code",
   "execution_count": null,
   "id": "c5d712bc",
   "metadata": {},
   "outputs": [],
   "source": [
    "#Pandenomics\n",
    "\n",
    "#The Bruhs' Progress Report\n",
    "\n",
    "#Aleksandar Kartelyan\n",
    "#Karan Shah\n",
    "#Ramzi Rimawi\n",
    "#Thomas Sobczak\n",
    "#Ryan Thommes"
   ]
  },
  {
   "cell_type": "code",
   "execution_count": 2,
   "id": "01b44f7a",
   "metadata": {},
   "outputs": [],
   "source": [
    "#Project Introduction"
   ]
  },
  {
   "cell_type": "code",
   "execution_count": null,
   "id": "4c32c3aa",
   "metadata": {},
   "outputs": [],
   "source": [
    "#Any Changes"
   ]
  },
  {
   "cell_type": "code",
   "execution_count": null,
   "id": "51815dde",
   "metadata": {},
   "outputs": [],
   "source": [
    "#Data Cleaning"
   ]
  },
  {
   "cell_type": "code",
   "execution_count": null,
   "id": "8dd06b53",
   "metadata": {},
   "outputs": [],
   "source": [
    "#Exploratory Data Analysis"
   ]
  },
  {
   "cell_type": "code",
   "execution_count": null,
   "id": "d6af8fa1",
   "metadata": {},
   "outputs": [],
   "source": [
    "#At Least One Visualization"
   ]
  },
  {
   "cell_type": "code",
   "execution_count": null,
   "id": "17b7638a",
   "metadata": {},
   "outputs": [],
   "source": [
    "#At Least One ML Analysis"
   ]
  },
  {
   "cell_type": "code",
   "execution_count": null,
   "id": "f7a8bdf5",
   "metadata": {},
   "outputs": [],
   "source": [
    "#Reflection"
   ]
  },
  {
   "cell_type": "code",
   "execution_count": null,
   "id": "b982e827",
   "metadata": {},
   "outputs": [],
   "source": [
    "#Next steps"
   ]
  }
 ],
 "metadata": {
  "kernelspec": {
   "display_name": "Python 3 (ipykernel)",
   "language": "python",
   "name": "python3"
  },
  "language_info": {
   "codemirror_mode": {
    "name": "ipython",
    "version": 3
   },
   "file_extension": ".py",
   "mimetype": "text/x-python",
   "name": "python",
   "nbconvert_exporter": "python",
   "pygments_lexer": "ipython3",
   "version": "3.9.7"
  }
 },
 "nbformat": 4,
 "nbformat_minor": 5
}
