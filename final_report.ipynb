{
 "cells": [
  {
   "cell_type": "markdown",
   "id": "eb55cb1a",
   "metadata": {},
   "source": [
    "# Pandenomics\n",
    "\n",
    "## The Bruhs' Final Report\n",
    "\n",
    "* Aleksandar Kartelyan\n",
    "* Karan Shah\n",
    "* Ramzi Rimawi\n",
    "* Thomas Sobczak\n",
    "* Ryan Thommes"
   ]
  },
  {
   "cell_type": "markdown",
   "id": "b08d53a4",
   "metadata": {},
   "source": [
    "## Project Introduction\n",
    "The pandemic has caused inflation across the nation, thus increasing cost in all stages in production of goods. Inflation and increased prices of goods and services affects everyone in the country from workers to businesses to everyday people. Our goal is to analyze different impacts the COVID-19 pandemic has had on the economy and the nation overall. And our question is, How has the COVID-19 pandemic caused prices to increase in the US?"
   ]
  },
  {
   "cell_type": "markdown",
   "id": "37af10a1",
   "metadata": {},
   "source": [
    "## Data Cleaning\n",
    "<font color='green'>DONE</font>\n",
    "\n",
    "Data Cleaning - Retrieved and downloaded CSV from database and used pandas to clean and store data in a dataframe for easy use.\n",
    "The data used is Consumer Price Index (CPI) from https://www.bls.gov/data/. The data was filtered for All Urban Consumers data from 2000-2022."
   ]
  },
  {
   "cell_type": "code",
   "execution_count": 149,
   "id": "9228f861",
   "metadata": {},
   "outputs": [
    {
     "data": {
      "text/html": [
       "<div>\n",
       "<style scoped>\n",
       "    .dataframe tbody tr th:only-of-type {\n",
       "        vertical-align: middle;\n",
       "    }\n",
       "\n",
       "    .dataframe tbody tr th {\n",
       "        vertical-align: top;\n",
       "    }\n",
       "\n",
       "    .dataframe thead th {\n",
       "        text-align: right;\n",
       "    }\n",
       "</style>\n",
       "<table border=\"1\" class=\"dataframe\">\n",
       "  <thead>\n",
       "    <tr style=\"text-align: right;\">\n",
       "      <th></th>\n",
       "      <th>Year</th>\n",
       "      <th>Jan</th>\n",
       "      <th>Feb</th>\n",
       "      <th>Mar</th>\n",
       "      <th>Apr</th>\n",
       "      <th>May</th>\n",
       "      <th>Jun</th>\n",
       "      <th>Jul</th>\n",
       "      <th>Aug</th>\n",
       "      <th>Sep</th>\n",
       "      <th>Oct</th>\n",
       "      <th>Nov</th>\n",
       "      <th>Dec</th>\n",
       "    </tr>\n",
       "  </thead>\n",
       "  <tbody>\n",
       "    <tr>\n",
       "      <th>1</th>\n",
       "      <td>2000</td>\n",
       "      <td>168.8</td>\n",
       "      <td>169.8</td>\n",
       "      <td>171.2</td>\n",
       "      <td>171.3</td>\n",
       "      <td>171.5</td>\n",
       "      <td>172.4</td>\n",
       "      <td>172.8</td>\n",
       "      <td>172.8</td>\n",
       "      <td>173.7</td>\n",
       "      <td>174.0</td>\n",
       "      <td>174.1</td>\n",
       "      <td>174.0</td>\n",
       "    </tr>\n",
       "    <tr>\n",
       "      <th>2</th>\n",
       "      <td>2001</td>\n",
       "      <td>175.1</td>\n",
       "      <td>175.8</td>\n",
       "      <td>176.2</td>\n",
       "      <td>176.9</td>\n",
       "      <td>177.7</td>\n",
       "      <td>178.0</td>\n",
       "      <td>177.5</td>\n",
       "      <td>177.5</td>\n",
       "      <td>178.3</td>\n",
       "      <td>177.7</td>\n",
       "      <td>177.4</td>\n",
       "      <td>176.7</td>\n",
       "    </tr>\n",
       "    <tr>\n",
       "      <th>3</th>\n",
       "      <td>2002</td>\n",
       "      <td>177.1</td>\n",
       "      <td>177.8</td>\n",
       "      <td>178.8</td>\n",
       "      <td>179.8</td>\n",
       "      <td>179.8</td>\n",
       "      <td>179.9</td>\n",
       "      <td>180.1</td>\n",
       "      <td>180.7</td>\n",
       "      <td>181.0</td>\n",
       "      <td>181.3</td>\n",
       "      <td>181.3</td>\n",
       "      <td>180.9</td>\n",
       "    </tr>\n",
       "    <tr>\n",
       "      <th>4</th>\n",
       "      <td>2003</td>\n",
       "      <td>181.7</td>\n",
       "      <td>183.1</td>\n",
       "      <td>184.2</td>\n",
       "      <td>183.8</td>\n",
       "      <td>183.5</td>\n",
       "      <td>183.7</td>\n",
       "      <td>183.9</td>\n",
       "      <td>184.6</td>\n",
       "      <td>185.2</td>\n",
       "      <td>185.0</td>\n",
       "      <td>184.5</td>\n",
       "      <td>184.3</td>\n",
       "    </tr>\n",
       "  </tbody>\n",
       "</table>\n",
       "</div>"
      ],
      "text/plain": [
       "   Year    Jan    Feb    Mar    Apr    May    Jun    Jul    Aug    Sep    Oct  \\\n",
       "1  2000  168.8  169.8  171.2  171.3  171.5  172.4  172.8  172.8  173.7  174.0   \n",
       "2  2001  175.1  175.8  176.2  176.9  177.7  178.0  177.5  177.5  178.3  177.7   \n",
       "3  2002  177.1  177.8  178.8  179.8  179.8  179.9  180.1  180.7  181.0  181.3   \n",
       "4  2003  181.7  183.1  184.2  183.8  183.5  183.7  183.9  184.6  185.2  185.0   \n",
       "\n",
       "     Nov    Dec  \n",
       "1  174.1  174.0  \n",
       "2  177.4  176.7  \n",
       "3  181.3  180.9  \n",
       "4  184.5  184.3  "
      ]
     },
     "execution_count": 149,
     "metadata": {},
     "output_type": "execute_result"
    }
   ],
   "source": [
    "import pandas as pd\n",
    "import numpy as np\n",
    "import seaborn as sns\n",
    "import matplotlib.pylab as plt\n",
    "from sklearn.linear_model import LinearRegression\n",
    "import random\n",
    "from scipy import stats\n",
    "\n",
    "\n",
    "data_cols = ['Year','Jan','Feb','Mar','Apr','May','Jun','Jul','Aug','Sep','Oct','Nov','Dec','HALF1','HALF2']\n",
    "\n",
    "data = pd.read_csv(\"CPI-U.csv\", names=data_cols)\n",
    "data = data.iloc[1: , :]\n",
    "data.drop(data.iloc[:, 13:15], inplace = True, axis = 1)\n",
    "data = data.replace(r'^\\s*$', np.nan, regex=True)\n",
    "data.head(4) #rows 1-4 shows years 2000-2003, but the data goes from 2000 - 2022"
   ]
  },
  {
   "cell_type": "markdown",
   "id": "557302ac",
   "metadata": {},
   "source": [
    "## Exploratory Data Analysis\n",
    "<font color='red'>TODO:</font>\n",
    "- 5 EDA Components\n",
    "- Missing conclusions/issues\n",
    "- Unclear what code was used for EDA\n",
    "- Unclear data structure \n",
    "- Unclear data granularity\n",
    "- Unclear data scope\n",
    "- Unclear temporality\n",
    "\n",
    "Data Granularity - The CPI data was collected monthly for each U.S. city it includes cost averages in food, energy, gasoline, etc.\n",
    "The monthly CPI data was aggregated by year in each group (pre-Covid and post-Covid).\n",
    "We also looked at different data sources (PPI).\n"
   ]
  },
  {
   "cell_type": "markdown",
   "id": "300aca5f",
   "metadata": {},
   "source": [
    "## Data Visualization\n",
    "\n",
    "<font color='red'>TODO:</font>\n",
    "- 3 visualizations total\n",
    "- The visualizations can be improved. If you are trying to compare before and after covid, you need to combine into one visualization with two bars (before and after) for each month. Comparison across is hard. You need to explain what CPI is and have some takeaways. Is there a meaning of the months? If not, this may not be the best visualization and you need to try more before you find something more meaningful.\n",
    "-  For each visualization, you should follow the guidelines from HW 2, parts Q2.2-2.4 (headline, visualization, description)"
   ]
  },
  {
   "cell_type": "code",
   "execution_count": 14,
   "id": "b5ffdec1",
   "metadata": {},
   "outputs": [
    {
     "data": {
      "text/plain": [
       "Text(0, 0.5, 'Average CPI')"
      ]
     },
     "execution_count": 14,
     "metadata": {},
     "output_type": "execute_result"
    },
    {
     "data": {
      "image/png": "[encoded data removed]",
      "text/plain": [
       "<Figure size 432x288 with 1 Axes>"
      ]
     },
     "metadata": {
      "needs_background": "light"
     },
     "output_type": "display_data"
    }
   ],
   "source": [
    "pre_covid_yrs = data[(data['Year'] <= '2019')].astype(float)\n",
    "covid_yrs = data[(data['Year'] > '2019') & (data['Year'] < '2022')].astype(float)\n",
    "\n",
    "pre_covid_yrs.drop('Year', axis=1, inplace=True)\n",
    "covid_yrs.drop('Year', axis=1, inplace=True)\n",
    "\n",
    "p = sns.barplot(data = pre_covid_yrs)\n",
    "p.set(title='Average CPI per month before COVID')\n",
    "p.set_xlabel(\"Months\")\n",
    "p.set_ylabel(\"Average CPI\")\n",
    "\n",
    "\n"
   ]
  },
  {
   "cell_type": "code",
   "execution_count": 15,
   "id": "9464c1c9",
   "metadata": {},
   "outputs": [
    {
     "data": {
      "text/plain": [
       "Text(0, 0.5, 'Average CPI')"
      ]
     },
     "execution_count": 15,
     "metadata": {},
     "output_type": "execute_result"
    },
    {
     "data": {
      "image/png": "[encoded data removed]",
      "text/plain": [
       "<Figure size 432x288 with 1 Axes>"
      ]
     },
     "metadata": {
      "needs_background": "light"
     },
     "output_type": "display_data"
    }
   ],
   "source": [
    "cpi_2019 = data[(data['Year'] == '2019')].astype(float)\n",
    "\n",
    "cpi_2019.drop('Year', axis=1, inplace=True)\n",
    "\n",
    "p = sns.barplot(data = cpi_2019)\n",
    "p.set(title='Average CPI per month in 2019')\n",
    "p.set_xlabel(\"Months\")\n",
    "p.set_ylabel(\"Average CPI\")\n",
    "\n"
   ]
  },
  {
   "cell_type": "code",
   "execution_count": 16,
   "id": "0b8fc4eb",
   "metadata": {
    "scrolled": true
   },
   "outputs": [
    {
     "data": {
      "text/plain": [
       "Text(0, 0.5, 'Average CPI')"
      ]
     },
     "execution_count": 16,
     "metadata": {},
     "output_type": "execute_result"
    },
    {
     "data": {
      "image/png": "[encoded data removed]",
      "text/plain": [
       "<Figure size 432x288 with 1 Axes>"
      ]
     },
     "metadata": {
      "needs_background": "light"
     },
     "output_type": "display_data"
    }
   ],
   "source": [
    "pn = sns.barplot(data = covid_yrs)\n",
    "pn.set(title='Average CPI per month after COVID')\n",
    "pn.set_xlabel(\"Months\")\n",
    "pn.set_ylabel(\"Average CPI\")"
   ]
  },
  {
   "cell_type": "code",
   "execution_count": 17,
   "id": "bb9cda63",
   "metadata": {},
   "outputs": [
    {
     "data": {
      "text/plain": [
       "[Text(0.5, 0, 'Years'),\n",
       " Text(0, 0.5, 'Average CPI'),\n",
       " Text(0.5, 1.0, 'Average CPI per year 2013-2022')]"
      ]
     },
     "execution_count": 17,
     "metadata": {},
     "output_type": "execute_result"
    },
    {
     "data": {
      "image/png": "[encoded data removed]",
      "text/plain": [
       "<Figure size 432x288 with 1 Axes>"
      ]
     },
     "metadata": {
      "needs_background": "light"
     },
     "output_type": "display_data"
    }
   ],
   "source": [
    "#Average CPI values per year for the last 10 years\n",
    "#Visualized in a line graph\n",
    "\n",
    "covid = data.astype(float)\n",
    "covid.drop('Year', axis=1, inplace=True)\n",
    "\n",
    "covid['average'] = covid.mean(axis=1)\n",
    "covid.drop(covid.iloc[:, 0:12], inplace=True, axis=1)\n",
    "data_cols = ['2013','2014','2015', '2016',\n",
    "            '2017', '2018', '2019', '2020', '2021', '2022']\n",
    "a=sns.lineplot(data=covid[-10:], x=data_cols, y=\"average\")\n",
    "a.set(xlabel=\"Years\", ylabel=\"Average CPI\", title='Average CPI per year 2013-2022')"
   ]
  },
  {
   "cell_type": "code",
   "execution_count": 18,
   "id": "1c40bafc",
   "metadata": {},
   "outputs": [
    {
     "data": {
      "image/png": "[encoded data removed]",
      "text/plain": [
       "<Figure size 432x288 with 1 Axes>"
      ]
     },
     "metadata": {
      "needs_background": "light"
     },
     "output_type": "display_data"
    }
   ],
   "source": [
    "# Stacked bar graph showing difference from before and after COVID\n",
    "pl = sns.barplot(data = covid_yrs, color=\"Blue\")\n",
    "pl = sns.barplot(data = pre_covid_yrs, color=\"deepskyblue\")\n",
    "pl.set(title='Average CPI per month before and after COVID')\n",
    "pl.set(xlabel=\"Months\", ylabel=\"Years\")\n",
    "leg = pl.legend(labels=[\"Before COVID\",\"After COVID\"], title = \"Legend\", loc = 2, bbox_to_anchor = (1,1))\n",
    "text = leg.get_texts()\n",
    "text[0].set_color(\"deepskyblue\")\n",
    "text[1].set_color(\"Blue\")"
   ]
  },
  {
   "cell_type": "markdown",
   "id": "2e6bb1d1",
   "metadata": {},
   "source": [
    "## ML Analysis\n",
    "\n",
    "<font color='red'>TODO:</font>\n",
    "- 2 ML Analysis Total\n",
    "- Need an evaluation\n",
    "- No baseline model/classifier or only one model used \n",
    "- Unclear experimental setup (e.g., train/test split)\n",
    "-  I recommend using classification instead of regression here but also choosing a task that is actually meaningful. There is no description of the ML task which makes it harder for me to help. Why are you predicting CPI? What models are you using? What features?"
   ]
  },
  {
   "cell_type": "code",
   "execution_count": 219,
   "id": "05e1ee77",
   "metadata": {},
   "outputs": [
    {
     "name": "stdout",
     "output_type": "stream",
     "text": [
      "Baseline Training Error: 7.413879697928253 %\n",
      "Baseline Testing Error: 9.44081506168657 %\n",
      "\n",
      "Regression Training Error: 1.103644438982912 %\n",
      "Regression Testing Error: 1.0194100176846108 %\n",
      "\n",
      "Regression Prediction for 2020 and 2021\n",
      "[[260.79852969]\n",
      " [265.13871044]]\n",
      "\n",
      "Average CPI for 2020: 255.65741666666668\n",
      "Average CPI for 2021: 258.8111666666667\n",
      "Model Error: 2.227893971632591 %\n"
     ]
    }
   ],
   "source": [
    "a = []\n",
    "b = []\n",
    "c = [2020, 2021]\n",
    "data[data['Year'] == '2019'].astype(float).aggregate(func = 'average')\n",
    "for x in range(2000,2020):\n",
    "    a.append(float(x))\n",
    "    pd = data[data['Year'] == str(x)].astype(float)\n",
    "    pd.drop('Year', axis=1, inplace=True)\n",
    "    b.append(pd.aggregate(func = 'average'))\n",
    "    \n",
    "a_1 = b\n",
    "a = np.array(a).reshape(-1, 1)\n",
    "b = np.array(b).reshape(-1, 1)\n",
    "c = np.array(c).reshape(-1, 1)\n",
    "\n",
    "\n",
    "# Baseline Predictor using average inflation of 3.8% (average inflation as mentioned by worlddata.info)\n",
    "\n",
    "baseline_numbers = [b[0][0]]\n",
    "for x in range(1, 20):\n",
    "    baseline_numbers.append(1.031 * baseline_numbers[x - 1])\n",
    "\n",
    "\n",
    "\n",
    "error3 = 0\n",
    "for i in range (20):\n",
    "    if (i not in index_test):\n",
    "        error3 += 100 * abs(baseline_numbers[i] - b[i]) / b[i]\n",
    "    \n",
    "error3 = error3 / 16\n",
    "    \n",
    "print(\"Baseline Training Error:\", error3[0], \"%\")\n",
    "\n",
    "\n",
    "error4 = 0\n",
    "for elem in index_test:\n",
    "    error4 += 100 * abs(baseline_numbers[elem] - b[elem]) / b[elem]\n",
    "\n",
    "error4 = error4 / 4\n",
    "\n",
    "print(\"Baseline Testing Error:\", error4[0], \"%\")\n",
    "\n",
    "print()\n",
    "\n",
    "\n",
    "\n",
    "linear_regressor = LinearRegression()  # create object for the class\n",
    "\n",
    "\n",
    "a_2 = a.copy()\n",
    "index_test = random.sample(range(0, 20), 3)\n",
    "\n",
    "b_2 = b.copy()\n",
    "a_2 = np.delete(a_2, index_test)\n",
    "b_2 = np.delete(b_2, index_test)\n",
    "\n",
    "\n",
    "a_2 = np.array(a_2).reshape(-1, 1)\n",
    "\n",
    "b_2 = np.array(b_2).reshape(-1, 1)\n",
    "\n",
    "linear_regressor.fit(a_2, b_2)  # perform linear regression\n",
    "\n",
    "\n",
    "error1 = 0\n",
    "for i in range (20):\n",
    "    if (i not in index_test):\n",
    "        error1 += 100 * abs(linear_regressor.predict(a[i].reshape(-1, 1))[0][0] - b[i]) / b[i]\n",
    "\n",
    "error1 = error1 / 16\n",
    "\n",
    "print(\"Regression Training Error:\", error1[0], \"%\")\n",
    "\n",
    "\n",
    "error2 = 0\n",
    "for elem in index_test:\n",
    "    error2 += 100 * abs(linear_regressor.predict(a[elem].reshape(-1, 1))[0][0] - b[elem]) / b[elem]\n",
    "    \n",
    "error2 = error2 / 4\n",
    "    \n",
    "print(\"Regression Testing Error:\", error2[0], \"%\")\n",
    "\n",
    "print()\n",
    "\n",
    "\n",
    "\n",
    "Y_pred = linear_regressor.predict(c)  # make predictions\n",
    "print(\"Regression Prediction for 2020 and 2021\")\n",
    "print(Y_pred)\n",
    "\n",
    "\n",
    "print()\n",
    "    \n",
    "error5 = 0\n",
    "b_1 = []\n",
    "\n",
    "for x in range(2020,2022):\n",
    "    cpi = pd.aggregate(func = 'average')\n",
    "    b_1.append(pd.aggregate(func = 'average'))\n",
    "    pd = data[data['Year'] == str(x)].astype(float)\n",
    "    pd.drop('Year', axis=1, inplace=True)\n",
    "    error5 += 100 * abs(Y_pred[2020 - x][0] - cpi) / cpi\n",
    "    print(\"Average CPI for \" + str(x) + \": \" + str(cpi))\n",
    "    \n",
    "\n",
    "error5 = error5 / 2\n",
    "print(\"Model Error:\", error5, \"%\")"
   ]
  },
  {
   "cell_type": "code",
   "execution_count": 222,
   "id": "62ea001d",
   "metadata": {},
   "outputs": [
    {
     "data": {
      "text/plain": [
       "Ttest_indResult(statistic=-2.1035416905753723, pvalue=0.0571841055733711)"
      ]
     },
     "execution_count": 222,
     "metadata": {},
     "output_type": "execute_result"
    }
   ],
   "source": [
    "\n",
    "#T-Test for checking if the values of CPI for 2020 and 2021 are different than expected\n",
    "\n",
    "stats.ttest_ind(a_1, b_1, trim=.2)\n"
   ]
  },
  {
   "cell_type": "markdown",
   "id": "344e4a51",
   "metadata": {},
   "source": [
    "## Reflection\n",
    "<font color='red'>TODO: UPDATE THIS?</font>\n",
    "\n",
    "\n",
    "* What is hardest part of the project that you’ve encountered so far?\n",
    "    - One of the biggest difficulties thus far has been finding the data that works best for the problem we're trying to solve. With this in mind, we may have to be more adaptive with what we are looking for and how to properly display that data to cater to our needs.\n",
    "* What are your initial insights?\n",
    "    - We may have to find additional data specific to particular industries rather than just using raw CPI data for this.\n",
    "* Are there any concrete results you can show at this point? If not, why not?\n",
    "    - There are some patterns that we are witnessing but as of right now, it is difficult to order them in a way that would help prove claims we make. But, we did come up with pretty good visualizations and a nice ML Analysis which show how drastically prices have increased since the COVID pandemic.\n",
    "* Going forward, what are the current biggest problems you’re facing?\n",
    "    - Some of the biggest problems we're facing involve understanding and displaying the data in a way beneficial to our claims. As it stands right now, we are struggling to decide which data is most helpful to use.\n",
    "* Do you think you are on track with your project? If not, what parts do you need to dedicate more time to?\n",
    "    - We feel like we are on track with the project. However, we should dedicate more time to finding supplementary results and conclusions to better support our problem.\n",
    "* Given your initial exploration of the data, is it worth proceeding with your project, why? If not, how are you going to change your project and why do you think it’s better than your current results?\n",
    "    - Yes, it is worth proceeding with our project because we've been making good progress so far and we've been able to clean data and write code which has given us some insightful results which display price increases from COVID."
   ]
  },
  {
   "cell_type": "markdown",
   "id": "290d5b90",
   "metadata": {},
   "source": [
    "## Results\n",
    "<font color='red'>TODO:</font>\n",
    "\n",
    "- Evaluate our results here\n",
    "- Maybe discuss our reults and conclusions about visulizations and ML here?\n",
    "- Fully explain and analyze the results from your data, i.e. the inferences or correlations you uncovered, the tools you built, or the visualizations you created.\n",
    "\n",
    "\n",
    "\n",
    "# ML\n",
    "- \n",
    "\n",
    "\n",
    "# T-Test\n",
    "- In out T-Test, we used significance value of 10% for checking if the values of CPI for 2020 and 2021 are different than expected\n",
    "- NULL Hypothesis- the CPI values for 2020 and 2021 are same as the average CPI during the past two decades\n",
    "- Alternate Hypothesis- the CPI values for 2020 and 2021 are not the same as the average CPI during the past two decades\n",
    "- The p-value from the t-test turned out to be .057, which is enough to conclude that we reject the NULL hypothesis that the CPI values for 2020 and 2021 aren't different"
   ]
  },
  {
   "cell_type": "code",
   "execution_count": null,
   "id": "5b4cd264",
   "metadata": {},
   "outputs": [],
   "source": []
  }
 ],
 "metadata": {
  "kernelspec": {
   "display_name": "Python 3 (ipykernel)",
   "language": "python",
   "name": "python3"
  },
  "language_info": {
   "codemirror_mode": {
    "name": "ipython",
    "version": 3
   },
   "file_extension": ".py",
   "mimetype": "text/x-python",
   "name": "python",
   "nbconvert_exporter": "python",
   "pygments_lexer": "ipython3",
   "version": "3.9.7"
  }
 },
 "nbformat": 4,
 "nbformat_minor": 5
}
