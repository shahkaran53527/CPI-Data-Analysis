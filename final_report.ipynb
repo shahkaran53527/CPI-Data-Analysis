{
 "cells": [
  {
   "cell_type": "markdown",
   "id": "eb55cb1a",
   "metadata": {},
   "source": [
    "# Pandenomics\n",
    "\n",
    "## The Bruhs' Final Report\n",
    "\n",
    "* Aleksandar Kartelyan\n",
    "* Karan Shah\n",
    "* Ramzi Rimawi\n",
    "* Thomas Sobczak\n",
    "* Ryan Thommes"
   ]
  },
  {
   "cell_type": "markdown",
   "id": "b08d53a4",
   "metadata": {},
   "source": [
    "## Project Introduction\n",
    "The pandemic has caused inflation across the nation, thus increasing cost in all stages in production of goods. Inflation and increased prices of goods and services affects everyone in the country from workers to businesses to everyday people. Our goal is to analyze different impacts the COVID-19 pandemic has had on the economy and the nation overall. And our question is, How has the COVID-19 pandemic caused prices to increase in the US?"
   ]
  },
  {
   "cell_type": "markdown",
   "id": "37af10a1",
   "metadata": {},
   "source": [
    "## Data Cleaning\n",
    "Retrieved and downloaded CSV from database and used pandas to clean and store data in a dataframe for easy use. The data used is Consumer Price Index (CPI) from https://www.bls.gov/data/. The data was filtered for All Urban Consumers data from 2000-2022."
   ]
  },
  {
   "cell_type": "code",
   "execution_count": 2,
   "id": "9228f861",
   "metadata": {},
   "outputs": [
    {
     "data": {
      "text/html": [
       "<div>\n",
       "<style scoped>\n",
       "    .dataframe tbody tr th:only-of-type {\n",
       "        vertical-align: middle;\n",
       "    }\n",
       "\n",
       "    .dataframe tbody tr th {\n",
       "        vertical-align: top;\n",
       "    }\n",
       "\n",
       "    .dataframe thead th {\n",
       "        text-align: right;\n",
       "    }\n",
       "</style>\n",
       "<table border=\"1\" class=\"dataframe\">\n",
       "  <thead>\n",
       "    <tr style=\"text-align: right;\">\n",
       "      <th></th>\n",
       "      <th>Year</th>\n",
       "      <th>Jan</th>\n",
       "      <th>Feb</th>\n",
       "      <th>Mar</th>\n",
       "      <th>Apr</th>\n",
       "      <th>May</th>\n",
       "      <th>Jun</th>\n",
       "      <th>Jul</th>\n",
       "      <th>Aug</th>\n",
       "      <th>Sep</th>\n",
       "      <th>Oct</th>\n",
       "      <th>Nov</th>\n",
       "      <th>Dec</th>\n",
       "    </tr>\n",
       "  </thead>\n",
       "  <tbody>\n",
       "    <tr>\n",
       "      <th>1</th>\n",
       "      <td>2000</td>\n",
       "      <td>168.8</td>\n",
       "      <td>169.8</td>\n",
       "      <td>171.2</td>\n",
       "      <td>171.3</td>\n",
       "      <td>171.5</td>\n",
       "      <td>172.4</td>\n",
       "      <td>172.8</td>\n",
       "      <td>172.8</td>\n",
       "      <td>173.7</td>\n",
       "      <td>174.0</td>\n",
       "      <td>174.1</td>\n",
       "      <td>174.0</td>\n",
       "    </tr>\n",
       "    <tr>\n",
       "      <th>2</th>\n",
       "      <td>2001</td>\n",
       "      <td>175.1</td>\n",
       "      <td>175.8</td>\n",
       "      <td>176.2</td>\n",
       "      <td>176.9</td>\n",
       "      <td>177.7</td>\n",
       "      <td>178.0</td>\n",
       "      <td>177.5</td>\n",
       "      <td>177.5</td>\n",
       "      <td>178.3</td>\n",
       "      <td>177.7</td>\n",
       "      <td>177.4</td>\n",
       "      <td>176.7</td>\n",
       "    </tr>\n",
       "    <tr>\n",
       "      <th>3</th>\n",
       "      <td>2002</td>\n",
       "      <td>177.1</td>\n",
       "      <td>177.8</td>\n",
       "      <td>178.8</td>\n",
       "      <td>179.8</td>\n",
       "      <td>179.8</td>\n",
       "      <td>179.9</td>\n",
       "      <td>180.1</td>\n",
       "      <td>180.7</td>\n",
       "      <td>181.0</td>\n",
       "      <td>181.3</td>\n",
       "      <td>181.3</td>\n",
       "      <td>180.9</td>\n",
       "    </tr>\n",
       "    <tr>\n",
       "      <th>4</th>\n",
       "      <td>2003</td>\n",
       "      <td>181.7</td>\n",
       "      <td>183.1</td>\n",
       "      <td>184.2</td>\n",
       "      <td>183.8</td>\n",
       "      <td>183.5</td>\n",
       "      <td>183.7</td>\n",
       "      <td>183.9</td>\n",
       "      <td>184.6</td>\n",
       "      <td>185.2</td>\n",
       "      <td>185.0</td>\n",
       "      <td>184.5</td>\n",
       "      <td>184.3</td>\n",
       "    </tr>\n",
       "  </tbody>\n",
       "</table>\n",
       "</div>"
      ],
      "text/plain": [
       "   Year    Jan    Feb    Mar    Apr    May    Jun    Jul    Aug    Sep    Oct  \\\n",
       "1  2000  168.8  169.8  171.2  171.3  171.5  172.4  172.8  172.8  173.7  174.0   \n",
       "2  2001  175.1  175.8  176.2  176.9  177.7  178.0  177.5  177.5  178.3  177.7   \n",
       "3  2002  177.1  177.8  178.8  179.8  179.8  179.9  180.1  180.7  181.0  181.3   \n",
       "4  2003  181.7  183.1  184.2  183.8  183.5  183.7  183.9  184.6  185.2  185.0   \n",
       "\n",
       "     Nov    Dec  \n",
       "1  174.1  174.0  \n",
       "2  177.4  176.7  \n",
       "3  181.3  180.9  \n",
       "4  184.5  184.3  "
      ]
     },
     "execution_count": 2,
     "metadata": {},
     "output_type": "execute_result"
    }
   ],
   "source": [
    "import pandas as pd\n",
    "import numpy as np\n",
    "import seaborn as sns\n",
    "import matplotlib.pylab as plt\n",
    "from sklearn.linear_model import LinearRegression\n",
    "import random\n",
    "from scipy import stats\n",
    "\n",
    "\n",
    "data_cols = ['Year','Jan','Feb','Mar','Apr','May','Jun','Jul','Aug','Sep','Oct','Nov','Dec','HALF1','HALF2']\n",
    "\n",
    "data = pd.read_csv(\"CPI-U.csv\", names=data_cols)\n",
    "data = data.iloc[1: , :]\n",
    "data.drop(data.iloc[:, 13:15], inplace = True, axis = 1)\n",
    "data = data.replace(r'^\\s*$', np.nan, regex=True)\n",
    "data.head(4) #rows 1-4 shows years 2000-2003, but the data goes from 2000 - 2022"
   ]
  },
  {
   "cell_type": "markdown",
   "id": "557302ac",
   "metadata": {},
   "source": [
    "## Exploratory Data Analysis\n",
    "\n",
    "For data granularity the CPI data was collected monthly for each U.S. city it includes cost averages in food, energy, gasoline, etc. The monthly CPI data was aggregated by year in each group (pre-Covid and post-Covid). The dataset had incomplete or missing data for th year 2022 because the year is not yet finished. We replaced the missing data values with Nan values. We also looked at different data sources (PPI).\n"
   ]
  },
  {
   "cell_type": "markdown",
   "id": "300aca5f",
   "metadata": {},
   "source": [
    "## Data Visualization\n",
    "\n",
    "<font color='red'>TODO:</font>\n",
    "- 3 visualizations total\n",
    "- The visualizations can be improved. If you are trying to compare before and after covid, you need to combine into one visualization with two bars (before and after) for each month. Comparison across is hard. You need to explain what CPI is and have some takeaways. Is there a meaning of the months? If not, this may not be the best visualization and you need to try more before you find something more meaningful.\n",
    "-  For each visualization, you should follow the guidelines from HW 2, parts Q2.2-2.4 (headline, visualization, description)"
   ]
  },
  {
   "cell_type": "code",
   "execution_count": 3,
   "id": "b5ffdec1",
   "metadata": {},
   "outputs": [
    {
     "data": {
      "text/plain": [
       "Text(0, 0.5, 'Average CPI')"
      ]
     },
     "execution_count": 3,
     "metadata": {},
     "output_type": "execute_result"
    },
    {
     "data": {
      "image/png": "[encoded data removed]",
      "text/plain": [
       "<Figure size 432x288 with 1 Axes>"
      ]
     },
     "metadata": {
      "needs_background": "light"
     },
     "output_type": "display_data"
    }
   ],
   "source": [
    "pre_covid_yrs = data[(data['Year'] <= '2019')].astype(float)\n",
    "covid_yrs = data[(data['Year'] > '2019') & (data['Year'] < '2022')].astype(float)\n",
    "\n",
    "pre_covid_yrs.drop('Year', axis=1, inplace=True)\n",
    "covid_yrs.drop('Year', axis=1, inplace=True)\n",
    "\n",
    "p = sns.barplot(data = pre_covid_yrs)\n",
    "p.set(ylim=(0,275))\n",
    "p.set(title='Average CPI per month before COVID')\n",
    "p.set_xlabel(\"Months\")\n",
    "p.set_ylabel(\"Average CPI\")\n"
   ]
  },
  {
   "cell_type": "code",
   "execution_count": 4,
   "id": "9464c1c9",
   "metadata": {},
   "outputs": [
    {
     "data": {
      "text/plain": [
       "Text(0, 0.5, 'Average CPI')"
      ]
     },
     "execution_count": 4,
     "metadata": {},
     "output_type": "execute_result"
    },
    {
     "data": {
      "image/png": "[encoded data removed]",
      "text/plain": [
       "<Figure size 432x288 with 1 Axes>"
      ]
     },
     "metadata": {
      "needs_background": "light"
     },
     "output_type": "display_data"
    }
   ],
   "source": [
    "cpi_2019 = data[(data['Year'] == '2019')].astype(float)\n",
    "\n",
    "cpi_2019.drop('Year', axis=1, inplace=True)\n",
    "\n",
    "p = sns.barplot(data = cpi_2019)\n",
    "p.set(ylim=(0,275))\n",
    "p.set(title='Average CPI per month in 2019')\n",
    "p.set_xlabel(\"Months\")\n",
    "p.set_ylabel(\"Average CPI\")\n"
   ]
  },
  {
   "cell_type": "code",
   "execution_count": 5,
   "id": "0b8fc4eb",
   "metadata": {
    "scrolled": true
   },
   "outputs": [
    {
     "data": {
      "text/plain": [
       "Text(0, 0.5, 'Average CPI')"
      ]
     },
     "execution_count": 5,
     "metadata": {},
     "output_type": "execute_result"
    },
    {
     "data": {
      "image/png": "[encoded data removed]",
      "text/plain": [
       "<Figure size 432x288 with 1 Axes>"
      ]
     },
     "metadata": {
      "needs_background": "light"
     },
     "output_type": "display_data"
    }
   ],
   "source": [
    "pn = sns.barplot(data = covid_yrs)\n",
    "p.set(ylim=(0,275))\n",
    "pn.set(title='Average CPI per month after COVID')\n",
    "pn.set_xlabel(\"Months\")\n",
    "pn.set_ylabel(\"Average CPI\")"
   ]
  },
  {
   "cell_type": "code",
   "execution_count": 6,
   "id": "bb9cda63",
   "metadata": {},
   "outputs": [
    {
     "data": {
      "text/plain": [
       "[Text(0.5, 0, 'Years'),\n",
       " Text(0, 0.5, 'Average CPI'),\n",
       " Text(0.5, 1.0, 'Average CPI per year 2013-2022')]"
      ]
     },
     "execution_count": 6,
     "metadata": {},
     "output_type": "execute_result"
    },
    {
     "data": {
      "image/png": "[encoded data removed]",
      "text/plain": [
       "<Figure size 432x288 with 1 Axes>"
      ]
     },
     "metadata": {
      "needs_background": "light"
     },
     "output_type": "display_data"
    }
   ],
   "source": [
    "#Average CPI values per year for the last 10 years\n",
    "#Visualized in a line graph\n",
    "\n",
    "covid = data.astype(float)\n",
    "covid.drop('Year', axis=1, inplace=True)\n",
    "\n",
    "covid['average'] = covid.mean(axis=1)\n",
    "covid.drop(covid.iloc[:, 0:12], inplace=True, axis=1)\n",
    "data_cols = ['2013','2014','2015', '2016',\n",
    "            '2017', '2018', '2019', '2020', '2021', '2022']\n",
    "a=sns.lineplot(data=covid[-10:], x=data_cols, y=\"average\")\n",
    "a.set(xlabel=\"Years\", ylabel=\"Average CPI\", title='Average CPI per year 2013-2022')"
   ]
  },
  {
   "cell_type": "markdown",
   "id": "e2f0904e",
   "metadata": {},
   "source": [
    "## Before vs. After COVID"
   ]
  },
  {
   "cell_type": "code",
   "execution_count": 7,
   "id": "1c40bafc",
   "metadata": {},
   "outputs": [
    {
     "data": {
      "image/png": "[encoded data removed]",
      "text/plain": [
       "<Figure size 432x288 with 1 Axes>"
      ]
     },
     "metadata": {
      "needs_background": "light"
     },
     "output_type": "display_data"
    }
   ],
   "source": [
    "# Stacked bar graph showing difference from before and after COVID\n",
    "pl = sns.barplot(data = covid_yrs, color=\"Blue\")\n",
    "pl = sns.barplot(data = pre_covid_yrs, color=\"deepskyblue\")\n",
    "pl.set(title='Average CPI per month before and after COVID')\n",
    "pl.set(xlabel=\"Months\", ylabel=\"Average CPI\")\n",
    "leg = pl.legend(labels=[\"Before COVID\",\"After COVID\"], title = \"Legend\", loc = 2, bbox_to_anchor = (1,1))\n",
    "text = leg.get_texts()\n",
    "text[0].set_color(\"deepskyblue\")\n",
    "text[1].set_color(\"Blue\")"
   ]
  },
  {
   "cell_type": "markdown",
   "id": "6eca318e",
   "metadata": {},
   "source": [
    "As shown in the bar graph above, we can can see the bars in light blue being the average in CPI before COVID and the bars being in dark blue the average CPI after COVID. In the visualization we can observe the difference in the 2 averages with the dark blue bars being higher in CPI than the light blue bars. As a result we can say that the average CPI after COVID was much higher than the average CPI before COVID because of the dark blue bars being greater than the light blue bars."
   ]
  },
  {
   "cell_type": "raw",
   "id": "f9b73418",
   "metadata": {},
   "source": [
    "The following cell contains the first ML Analysis which uses a regression model trained with the monthly CPI data of years 2000-2019 and it is used to predict the CPI for 2020 and 2021, since our goal is to determine whether CPI has changed in the last two years. For the baseline model, we used an inflation rate of 3.8% which is the average inflation of the last two decades. For training/test split we used 80% of the dataset (randomly picked 16 years) as the training data and 20% of our dataset (4 years) as the testing data. The Linear Regression predictor had an  error of about .98% on the training data and 1.36% error on the testing data. On the other hand, the Basline predictor had an error of 8.83% on the training data and an error of 3.76% on the testing data.\n",
    "The Regression model predicted 260.74 as the average CPI for 2020 and 265.10 as the average CPI for 2021, while the actual average CPI turned out to be 258.11 (lower than expected) for 2020 and 270.97 (higher than expected) for 2021, resulting in an error of about 1.49% for the model."
   ]
  },
  {
   "cell_type": "markdown",
   "id": "2e6bb1d1",
   "metadata": {},
   "source": [
    "## ML Analysis"
   ]
  },
  {
   "cell_type": "code",
   "execution_count": 8,
   "id": "05e1ee77",
   "metadata": {},
   "outputs": [
    {
     "name": "stdout",
     "output_type": "stream",
     "text": [
      "Baseline Training Error: 8.161560414446791 %\n",
      "Baseline Testing Error: 6.450092195612418 %\n",
      "\n",
      "Regression Training Error: 1.164936514945675 %\n",
      "Regression Testing Error: 0.6921357921828085 %\n",
      "\n",
      "Regression Prediction for 2020 and 2021\n",
      "[[260.73733858]\n",
      " [265.08883681]]\n",
      "\n",
      "Average CPI for 2020: 258.8111666666667\n",
      "Average CPI for 2021: 270.96975000000003\n",
      "Model Error: 1.4572796301676207 %\n"
     ]
    }
   ],
   "source": [
    "a = []\n",
    "b = []\n",
    "c = [2020, 2021]\n",
    "data[data['Year'] == '2019'].astype(float).aggregate(func = 'average')\n",
    "for x in range(2000,2020):\n",
    "    a.append(float(x))\n",
    "    pd = data[data['Year'] == str(x)].astype(float)\n",
    "    pd.drop('Year', axis=1, inplace=True)\n",
    "    b.append(pd.aggregate(func = 'average'))\n",
    "    \n",
    "\n",
    "a_1 = b\n",
    "a = np.array(a).reshape(-1, 1)\n",
    "b = np.array(b).reshape(-1, 1)\n",
    "c = np.array(c).reshape(-1, 1)\n",
    "\n",
    "index_test = random.sample(range(0, 20), 3)\n",
    "\n",
    "# Baseline Predictor using average inflation of 3.8% (average inflation as mentioned by worlddata.info)\n",
    "baseline_numbers = [b[0][0]]\n",
    "for x in range(1, 20):\n",
    "    baseline_numbers.append(1.031 * baseline_numbers[x - 1])\n",
    "\n",
    "error3 = 0\n",
    "for i in range (20):\n",
    "    if (i not in index_test):\n",
    "        error3 += 100 * abs(baseline_numbers[i] - b[i]) / b[i]\n",
    "    \n",
    "error3 = error3 / 16\n",
    "    \n",
    "print(\"Baseline Training Error:\", error3[0], \"%\")\n",
    "\n",
    "error4 = 0\n",
    "for elem in index_test:\n",
    "    error4 += 100 * abs(baseline_numbers[elem] - b[elem]) / b[elem]\n",
    "\n",
    "error4 = error4 / 4\n",
    "\n",
    "print(\"Baseline Testing Error:\", error4[0], \"%\")\n",
    "\n",
    "print()\n",
    "\n",
    "linear_regressor = LinearRegression()  # create object for the class\n",
    "\n",
    "a_2 = a.copy()\n",
    "\n",
    "b_2 = b.copy()\n",
    "a_2 = np.delete(a_2, index_test)\n",
    "b_2 = np.delete(b_2, index_test)\n",
    "\n",
    "a_2 = np.array(a_2).reshape(-1, 1)\n",
    "b_2 = np.array(b_2).reshape(-1, 1)\n",
    "\n",
    "linear_regressor.fit(a_2, b_2)  # perform linear regression\n",
    "\n",
    "error1 = 0\n",
    "for i in range (20):\n",
    "    if (i not in index_test):\n",
    "        error1 += 100 * abs(linear_regressor.predict(a[i].reshape(-1, 1))[0][0] - b[i]) / b[i]\n",
    "\n",
    "error1 = error1 / 16\n",
    "print(\"Regression Training Error:\", error1[0], \"%\")\n",
    "\n",
    "error2 = 0\n",
    "for elem in index_test:\n",
    "    error2 += 100 * abs(linear_regressor.predict(a[elem].reshape(-1, 1))[0][0] - b[elem]) / b[elem]\n",
    "    \n",
    "error2 = error2 / 4\n",
    "print(\"Regression Testing Error:\", error2[0], \"%\")\n",
    "print()\n",
    "\n",
    "Y_pred = linear_regressor.predict(c)  # make predictions\n",
    "print(\"Regression Prediction for 2020 and 2021\")\n",
    "print(Y_pred)\n",
    "print()\n",
    "    \n",
    "error5 = 0\n",
    "b_1 = []\n",
    "\n",
    "for x in range(2020,2022):\n",
    "    b_1.append(pd.aggregate(func = 'average'))\n",
    "    pd = data[data['Year'] == str(x)].astype(float)\n",
    "    pd.drop('Year', axis=1, inplace=True)\n",
    "    cpi = pd.aggregate(func = 'average')\n",
    "    error5 += 100 * abs(Y_pred[2020 - x][0] - cpi) / cpi\n",
    "    print(\"Average CPI for \" + str(x) + \": \" + str(cpi))\n",
    "\n",
    "error5 = error5 / 2\n",
    "print(\"Model Error:\", error5, \"%\")"
   ]
  },
  {
   "cell_type": "raw",
   "id": "549ffe98",
   "metadata": {},
   "source": [
    "T-Test\n",
    "- In our T-Test, we used significance value of 10% for checking if the values of CPI for 2020 and 2021 are different than expected\n",
    "NULL Hypothesis- the CPI values for 2020 and 2021 are same as the average CPI during the past two decades\n",
    "- Alternate Hypothesis- the CPI values for 2020 and 2021 are not the same as the average CPI during the past two decades\n",
    "- The p-value from the t-test turned out to be .057, which is enough to conclude that we reject the NULL hypothesis that the CPI values for 2020 and 2021 aren't different"
   ]
  },
  {
   "cell_type": "code",
   "execution_count": 9,
   "id": "62ea001d",
   "metadata": {},
   "outputs": [
    {
     "data": {
      "text/plain": [
       "Ttest_indResult(statistic=-2.1035416905753723, pvalue=0.0571841055733711)"
      ]
     },
     "execution_count": 9,
     "metadata": {},
     "output_type": "execute_result"
    }
   ],
   "source": [
    "#T-Test for checking if the values of CPI for 2020 and 2021 are different than expected\n",
    "\n",
    "stats.ttest_ind(a_1, b_1, trim=.2)"
   ]
  },
  {
   "cell_type": "markdown",
   "id": "290d5b90",
   "metadata": {},
   "source": [
    "## Results:\n",
    "<font color='red'>TODO:</font>\n",
    "\n",
    "- Evaluate our results here\n",
    "- Maybe discuss our reults and conclusions about visulizations and ML here?\n",
    "- Fully explain and analyze the results from your data, i.e. the inferences or correlations you uncovered, the tools you built, or the visualizations you created."
   ]
  },
  {
   "cell_type": "code",
   "execution_count": null,
   "id": "4143dd70",
   "metadata": {},
   "outputs": [],
   "source": []
  },
  {
   "cell_type": "code",
   "execution_count": null,
   "id": "0e58d9a5",
   "metadata": {},
   "outputs": [],
   "source": []
  },
  {
   "cell_type": "code",
   "execution_count": null,
   "id": "287ca733",
   "metadata": {},
   "outputs": [],
   "source": []
  }
 ],
 "metadata": {
  "kernelspec": {
   "display_name": "Python 3 (ipykernel)",
   "language": "python",
   "name": "python3"
  },
  "language_info": {
   "codemirror_mode": {
    "name": "ipython",
    "version": 3
   },
   "file_extension": ".py",
   "mimetype": "text/x-python",
   "name": "python",
   "nbconvert_exporter": "python",
   "pygments_lexer": "ipython3",
   "version": "3.9.7"
  }
 },
 "nbformat": 4,
 "nbformat_minor": 5
}
